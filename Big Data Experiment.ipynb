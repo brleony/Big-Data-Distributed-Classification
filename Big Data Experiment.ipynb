{
 "cells": [
  {
   "cell_type": "markdown",
   "metadata": {},
   "source": [
    "# Big Data Experiment"
   ]
  },
  {
   "cell_type": "code",
   "execution_count": 1,
   "metadata": {},
   "outputs": [],
   "source": [
    "import pandas as pd \n",
    "import numpy as np\n",
    "\n",
    "from sklearn.model_selection import train_test_split\n",
    "from sklearn import preprocessing\n",
    "from sklearn import tree\n",
    "from sklearn.metrics import classification_report\n",
    "\n",
    "from sklearn.ensemble import AdaBoostClassifier\n",
    "\n",
    "from mlxtend.classifier import EnsembleVoteClassifier\n",
    "import copy\n",
    "\n",
    "import seaborn as sns\n",
    "import matplotlib.pyplot as plt\n",
    "plt.style.use('seaborn-whitegrid')\n",
    "\n",
    "%matplotlib inline"
   ]
  },
  {
   "cell_type": "markdown",
   "metadata": {},
   "source": [
    "## Exploratory Analysis"
   ]
  },
  {
   "cell_type": "code",
   "execution_count": 2,
   "metadata": {},
   "outputs": [],
   "source": [
    "path = 'Data/bank-full.csv'\n",
    "\n",
    "with open(path, encoding=\"utf8\") as f:\n",
    "    data = pd.read_csv(f, sep=\";\", encoding=\"utf8\")"
   ]
  },
  {
   "cell_type": "code",
   "execution_count": 3,
   "metadata": {},
   "outputs": [
    {
     "name": "stdout",
     "output_type": "stream",
     "text": [
      "<class 'pandas.core.frame.DataFrame'>\n",
      "RangeIndex: 45211 entries, 0 to 45210\n",
      "Data columns (total 17 columns):\n",
      "age          45211 non-null int64\n",
      "job          45211 non-null object\n",
      "marital      45211 non-null object\n",
      "education    45211 non-null object\n",
      "default      45211 non-null object\n",
      "balance      45211 non-null int64\n",
      "housing      45211 non-null object\n",
      "loan         45211 non-null object\n",
      "contact      45211 non-null object\n",
      "day          45211 non-null int64\n",
      "month        45211 non-null object\n",
      "duration     45211 non-null int64\n",
      "campaign     45211 non-null int64\n",
      "pdays        45211 non-null int64\n",
      "previous     45211 non-null int64\n",
      "poutcome     45211 non-null object\n",
      "y            45211 non-null object\n",
      "dtypes: int64(7), object(10)\n",
      "memory usage: 5.9+ MB\n"
     ]
    }
   ],
   "source": [
    "data.info()"
   ]
  },
  {
   "cell_type": "code",
   "execution_count": 4,
   "metadata": {},
   "outputs": [
    {
     "data": {
      "text/html": [
       "<div>\n",
       "<style scoped>\n",
       "    .dataframe tbody tr th:only-of-type {\n",
       "        vertical-align: middle;\n",
       "    }\n",
       "\n",
       "    .dataframe tbody tr th {\n",
       "        vertical-align: top;\n",
       "    }\n",
       "\n",
       "    .dataframe thead th {\n",
       "        text-align: right;\n",
       "    }\n",
       "</style>\n",
       "<table border=\"1\" class=\"dataframe\">\n",
       "  <thead>\n",
       "    <tr style=\"text-align: right;\">\n",
       "      <th></th>\n",
       "      <th>age</th>\n",
       "      <th>balance</th>\n",
       "      <th>day</th>\n",
       "      <th>duration</th>\n",
       "      <th>campaign</th>\n",
       "      <th>pdays</th>\n",
       "      <th>previous</th>\n",
       "    </tr>\n",
       "  </thead>\n",
       "  <tbody>\n",
       "    <tr>\n",
       "      <th>count</th>\n",
       "      <td>45211.000000</td>\n",
       "      <td>45211.000000</td>\n",
       "      <td>45211.000000</td>\n",
       "      <td>45211.000000</td>\n",
       "      <td>45211.000000</td>\n",
       "      <td>45211.000000</td>\n",
       "      <td>45211.000000</td>\n",
       "    </tr>\n",
       "    <tr>\n",
       "      <th>mean</th>\n",
       "      <td>40.936210</td>\n",
       "      <td>1362.272058</td>\n",
       "      <td>15.806419</td>\n",
       "      <td>258.163080</td>\n",
       "      <td>2.763841</td>\n",
       "      <td>40.197828</td>\n",
       "      <td>0.580323</td>\n",
       "    </tr>\n",
       "    <tr>\n",
       "      <th>std</th>\n",
       "      <td>10.618762</td>\n",
       "      <td>3044.765829</td>\n",
       "      <td>8.322476</td>\n",
       "      <td>257.527812</td>\n",
       "      <td>3.098021</td>\n",
       "      <td>100.128746</td>\n",
       "      <td>2.303441</td>\n",
       "    </tr>\n",
       "    <tr>\n",
       "      <th>min</th>\n",
       "      <td>18.000000</td>\n",
       "      <td>-8019.000000</td>\n",
       "      <td>1.000000</td>\n",
       "      <td>0.000000</td>\n",
       "      <td>1.000000</td>\n",
       "      <td>-1.000000</td>\n",
       "      <td>0.000000</td>\n",
       "    </tr>\n",
       "    <tr>\n",
       "      <th>25%</th>\n",
       "      <td>33.000000</td>\n",
       "      <td>72.000000</td>\n",
       "      <td>8.000000</td>\n",
       "      <td>103.000000</td>\n",
       "      <td>1.000000</td>\n",
       "      <td>-1.000000</td>\n",
       "      <td>0.000000</td>\n",
       "    </tr>\n",
       "    <tr>\n",
       "      <th>50%</th>\n",
       "      <td>39.000000</td>\n",
       "      <td>448.000000</td>\n",
       "      <td>16.000000</td>\n",
       "      <td>180.000000</td>\n",
       "      <td>2.000000</td>\n",
       "      <td>-1.000000</td>\n",
       "      <td>0.000000</td>\n",
       "    </tr>\n",
       "    <tr>\n",
       "      <th>75%</th>\n",
       "      <td>48.000000</td>\n",
       "      <td>1428.000000</td>\n",
       "      <td>21.000000</td>\n",
       "      <td>319.000000</td>\n",
       "      <td>3.000000</td>\n",
       "      <td>-1.000000</td>\n",
       "      <td>0.000000</td>\n",
       "    </tr>\n",
       "    <tr>\n",
       "      <th>max</th>\n",
       "      <td>95.000000</td>\n",
       "      <td>102127.000000</td>\n",
       "      <td>31.000000</td>\n",
       "      <td>4918.000000</td>\n",
       "      <td>63.000000</td>\n",
       "      <td>871.000000</td>\n",
       "      <td>275.000000</td>\n",
       "    </tr>\n",
       "  </tbody>\n",
       "</table>\n",
       "</div>"
      ],
      "text/plain": [
       "                age        balance           day      duration      campaign  \\\n",
       "count  45211.000000   45211.000000  45211.000000  45211.000000  45211.000000   \n",
       "mean      40.936210    1362.272058     15.806419    258.163080      2.763841   \n",
       "std       10.618762    3044.765829      8.322476    257.527812      3.098021   \n",
       "min       18.000000   -8019.000000      1.000000      0.000000      1.000000   \n",
       "25%       33.000000      72.000000      8.000000    103.000000      1.000000   \n",
       "50%       39.000000     448.000000     16.000000    180.000000      2.000000   \n",
       "75%       48.000000    1428.000000     21.000000    319.000000      3.000000   \n",
       "max       95.000000  102127.000000     31.000000   4918.000000     63.000000   \n",
       "\n",
       "              pdays      previous  \n",
       "count  45211.000000  45211.000000  \n",
       "mean      40.197828      0.580323  \n",
       "std      100.128746      2.303441  \n",
       "min       -1.000000      0.000000  \n",
       "25%       -1.000000      0.000000  \n",
       "50%       -1.000000      0.000000  \n",
       "75%       -1.000000      0.000000  \n",
       "max      871.000000    275.000000  "
      ]
     },
     "execution_count": 4,
     "metadata": {},
     "output_type": "execute_result"
    }
   ],
   "source": [
    "data.describe()"
   ]
  },
  {
   "cell_type": "code",
   "execution_count": 5,
   "metadata": {},
   "outputs": [],
   "source": [
    "# previous = data['previous']\n",
    "# plot_retweets = previous.plot.hist()\n",
    "# plot_retweets.set_xlabel(\"Number of contacts performed before this campaign\", weight='bold', size=12)\n",
    "# plot_retweets.set_ylabel(\"Frequency\", weight='bold', size=12)"
   ]
  },
  {
   "cell_type": "code",
   "execution_count": 6,
   "metadata": {},
   "outputs": [],
   "source": [
    "# campaign = data['campaign']\n",
    "# plot_retweets = campaign.plot.hist()\n",
    "# plot_retweets.set_xlabel(\"Number of contacts during before this campaign\", weight='bold', size=12)\n",
    "# plot_retweets.set_ylabel(\"Frequency\", weight='bold', size=12)"
   ]
  },
  {
   "cell_type": "code",
   "execution_count": 7,
   "metadata": {},
   "outputs": [],
   "source": [
    "# pairplot = sns.pairplot(data)"
   ]
  },
  {
   "cell_type": "code",
   "execution_count": 8,
   "metadata": {},
   "outputs": [],
   "source": [
    "# correlations = data[['age', 'balance', 'duration', 'campaign', 'pdays', 'previous']].corr()\n",
    "# correlations_matrix = sns.heatmap(correlations, xticklabels=correlations.columns, yticklabels=correlations.columns, cmap=sns.cubehelix_palette(10))"
   ]
  },
  {
   "cell_type": "code",
   "execution_count": 9,
   "metadata": {},
   "outputs": [
    {
     "data": {
      "text/plain": [
       "no     39922\n",
       "yes     5289\n",
       "Name: y, dtype: int64"
      ]
     },
     "execution_count": 9,
     "metadata": {},
     "output_type": "execute_result"
    }
   ],
   "source": [
    "data.y.value_counts()"
   ]
  },
  {
   "cell_type": "code",
   "execution_count": 10,
   "metadata": {},
   "outputs": [
    {
     "data": {
      "text/plain": [
       "no     0.883015\n",
       "yes    0.116985\n",
       "Name: y, dtype: float64"
      ]
     },
     "execution_count": 10,
     "metadata": {},
     "output_type": "execute_result"
    }
   ],
   "source": [
    "data.y.value_counts(normalize=True)"
   ]
  },
  {
   "cell_type": "code",
   "execution_count": 11,
   "metadata": {},
   "outputs": [],
   "source": [
    "# Split data into training and test sets\n",
    "train, test = train_test_split(data, train_size=0.9)\n",
    "\n",
    "# Encoder\n",
    "encoder = preprocessing.LabelEncoder()"
   ]
  },
  {
   "cell_type": "code",
   "execution_count": 12,
   "metadata": {},
   "outputs": [
    {
     "name": "stdout",
     "output_type": "stream",
     "text": [
      "691713 76874\n"
     ]
    }
   ],
   "source": [
    "print(train.size, test.size)"
   ]
  },
  {
   "cell_type": "markdown",
   "metadata": {},
   "source": [
    "## Functions"
   ]
  },
  {
   "cell_type": "code",
   "execution_count": 41,
   "metadata": {},
   "outputs": [],
   "source": [
    "# Add the scores to the dataframe\n",
    "def add_to_results(df, split, f1, acc, result):\n",
    "    scores = {\"Splits\": split, \"F1-score\": f1, \"Accuracy\": acc, \"Result\": result}\n",
    "    df = df.append(scores, ignore_index=True)\n",
    "    return df"
   ]
  },
  {
   "cell_type": "code",
   "execution_count": 42,
   "metadata": {},
   "outputs": [],
   "source": [
    "# Split a data set in to X, y and encode X\n",
    "def splitXy(dataset):\n",
    "    X = dataset.drop('y', axis=1)\n",
    "    for column in X.columns:\n",
    "        if X[column].dtype == 'object':\n",
    "            X[column] = encoder.fit_transform(X[column])        \n",
    "    y = dataset.y\n",
    "    return X, y"
   ]
  },
  {
   "cell_type": "code",
   "execution_count": 43,
   "metadata": {},
   "outputs": [],
   "source": [
    "# Train voting classifier with n splits\n",
    "def train_classifier_with_n_splits(n_parts, train):\n",
    "    # Randomly split data into n parts of (roughly) equal size\n",
    "    splits = np.array_split(train, indices_or_sections=n_parts)\n",
    "    \n",
    "    # Fit a decision tree to every split of data\n",
    "    classifiers = []\n",
    "    for i, split in enumerate(splits):\n",
    "        X_train, y_train = splitXy(split)\n",
    "\n",
    "        tree_split = tree.DecisionTreeClassifier(max_depth=10)\n",
    "        tree_split = tree_split.fit(X_train, y_train)\n",
    "        classifiers.append(tree_split)\n",
    "        \n",
    "    # Combine all trees in a voting classifier\n",
    "    eclf = EnsembleVoteClassifier(clfs=classifiers, voting=\"soft\", refit=False)\n",
    "    eclf.fit(None, y_train)\n",
    "    \n",
    "    return eclf"
   ]
  },
  {
   "cell_type": "code",
   "execution_count": 44,
   "metadata": {},
   "outputs": [],
   "source": [
    "# Test voting classifier\n",
    "def validate_classifier(eclf, test):\n",
    "    X_test, y_test = splitXy(test)\n",
    "    eclf_report = classification_report(y_test, eclf.predict(X_test), output_dict=True)\n",
    "    return eclf_report"
   ]
  },
  {
   "cell_type": "code",
   "execution_count": 45,
   "metadata": {},
   "outputs": [],
   "source": [
    "def my_voting_classifier(n_splits, train, test):\n",
    "    # Empty dataframe to save results\n",
    "    results = pd.DataFrame()\n",
    "\n",
    "    # Repeat for every n of splits: train classifier, \n",
    "    for n_split in n_splits:\n",
    "        eclf = train_classifier_with_n_splits(n_split, train)\n",
    "        report = validate_classifier(eclf, test)\n",
    "        results = add_to_results(results, n_split, report['macro avg']['f1-score'], report['accuracy'], report)\n",
    "        print(n_split, report['macro avg']['f1-score'])\n",
    "    \n",
    "    return results"
   ]
  },
  {
   "cell_type": "markdown",
   "metadata": {},
   "source": [
    "## Voting classifier, training on seperate splits"
   ]
  },
  {
   "cell_type": "code",
   "execution_count": 46,
   "metadata": {},
   "outputs": [
    {
     "name": "stdout",
     "output_type": "stream",
     "text": [
      "1 0.7273711380439845\n",
      "2 0.6956785079075134\n",
      "4 0.7062561691084321\n",
      "8 0.7068142872048253\n",
      "10 0.7184640506271501\n",
      "15 0.7091344868273318\n",
      "20 0.7108093440232808\n",
      "25 0.7023994107134233\n",
      "30 0.7085707231557118\n",
      "35 0.7113814128747941\n",
      "40 0.7003205618378479\n",
      "45 0.703692067960189\n",
      "50 0.701010776162609\n",
      "75 0.6858762102740208\n",
      "100 0.6686807094895398\n",
      "125 0.6584412612176935\n",
      "150 0.6602953361642883\n",
      "175 0.659904039542243\n",
      "200 0.6565434425430221\n",
      "250 0.6408524213786108\n",
      "300 0.6255669530468503\n",
      "350 0.6332395727277434\n",
      "400 0.6274041680141886\n",
      "450 0.6096369655996325\n",
      "500 0.6298268607535819\n"
     ]
    },
    {
     "data": {
      "text/html": [
       "<div>\n",
       "<style scoped>\n",
       "    .dataframe tbody tr th:only-of-type {\n",
       "        vertical-align: middle;\n",
       "    }\n",
       "\n",
       "    .dataframe tbody tr th {\n",
       "        vertical-align: top;\n",
       "    }\n",
       "\n",
       "    .dataframe thead th {\n",
       "        text-align: right;\n",
       "    }\n",
       "</style>\n",
       "<table border=\"1\" class=\"dataframe\">\n",
       "  <thead>\n",
       "    <tr style=\"text-align: right;\">\n",
       "      <th></th>\n",
       "      <th>Accuracy</th>\n",
       "      <th>F1-score</th>\n",
       "      <th>Result</th>\n",
       "      <th>Splits</th>\n",
       "    </tr>\n",
       "  </thead>\n",
       "  <tbody>\n",
       "    <tr>\n",
       "      <th>0</th>\n",
       "      <td>0.900929</td>\n",
       "      <td>0.727371</td>\n",
       "      <td>{'no': {'precision': 0.9334143377885784, 'reca...</td>\n",
       "      <td>1.0</td>\n",
       "    </tr>\n",
       "    <tr>\n",
       "      <th>1</th>\n",
       "      <td>0.893189</td>\n",
       "      <td>0.695679</td>\n",
       "      <td>{'no': {'precision': 0.9255421686746987, 'reca...</td>\n",
       "      <td>2.0</td>\n",
       "    </tr>\n",
       "    <tr>\n",
       "      <th>2</th>\n",
       "      <td>0.900265</td>\n",
       "      <td>0.706256</td>\n",
       "      <td>{'no': {'precision': 0.9261119081779053, 'reca...</td>\n",
       "      <td>4.0</td>\n",
       "    </tr>\n",
       "    <tr>\n",
       "      <th>3</th>\n",
       "      <td>0.899823</td>\n",
       "      <td>0.706814</td>\n",
       "      <td>{'no': {'precision': 0.9264846743295019, 'reca...</td>\n",
       "      <td>8.0</td>\n",
       "    </tr>\n",
       "    <tr>\n",
       "      <th>4</th>\n",
       "      <td>0.903804</td>\n",
       "      <td>0.718464</td>\n",
       "      <td>{'no': {'precision': 0.928639846743295, 'recal...</td>\n",
       "      <td>10.0</td>\n",
       "    </tr>\n",
       "    <tr>\n",
       "      <th>5</th>\n",
       "      <td>0.902919</td>\n",
       "      <td>0.709134</td>\n",
       "      <td>{'no': {'precision': 0.9259171033825632, 'reca...</td>\n",
       "      <td>15.0</td>\n",
       "    </tr>\n",
       "    <tr>\n",
       "      <th>6</th>\n",
       "      <td>0.903582</td>\n",
       "      <td>0.710809</td>\n",
       "      <td>{'no': {'precision': 0.9261728983091212, 'reca...</td>\n",
       "      <td>20.0</td>\n",
       "    </tr>\n",
       "    <tr>\n",
       "      <th>7</th>\n",
       "      <td>0.903582</td>\n",
       "      <td>0.702399</td>\n",
       "      <td>{'no': {'precision': 0.9235502958579882, 'reca...</td>\n",
       "      <td>25.0</td>\n",
       "    </tr>\n",
       "    <tr>\n",
       "      <th>8</th>\n",
       "      <td>0.905794</td>\n",
       "      <td>0.708571</td>\n",
       "      <td>{'no': {'precision': 0.9245327655547669, 'reca...</td>\n",
       "      <td>30.0</td>\n",
       "    </tr>\n",
       "    <tr>\n",
       "      <th>9</th>\n",
       "      <td>0.905130</td>\n",
       "      <td>0.711381</td>\n",
       "      <td>{'no': {'precision': 0.9256885090218424, 'reca...</td>\n",
       "      <td>35.0</td>\n",
       "    </tr>\n",
       "    <tr>\n",
       "      <th>10</th>\n",
       "      <td>0.902256</td>\n",
       "      <td>0.700321</td>\n",
       "      <td>{'no': {'precision': 0.9234415738326618, 'reca...</td>\n",
       "      <td>40.0</td>\n",
       "    </tr>\n",
       "    <tr>\n",
       "      <th>11</th>\n",
       "      <td>0.903140</td>\n",
       "      <td>0.703692</td>\n",
       "      <td>{'no': {'precision': 0.9241166706189234, 'reca...</td>\n",
       "      <td>45.0</td>\n",
       "    </tr>\n",
       "    <tr>\n",
       "      <th>12</th>\n",
       "      <td>0.902698</td>\n",
       "      <td>0.701011</td>\n",
       "      <td>{'no': {'precision': 0.9234778488509832, 'reca...</td>\n",
       "      <td>50.0</td>\n",
       "    </tr>\n",
       "    <tr>\n",
       "      <th>13</th>\n",
       "      <td>0.902477</td>\n",
       "      <td>0.685876</td>\n",
       "      <td>{'no': {'precision': 0.9192867198498358, 'reca...</td>\n",
       "      <td>75.0</td>\n",
       "    </tr>\n",
       "    <tr>\n",
       "      <th>14</th>\n",
       "      <td>0.899823</td>\n",
       "      <td>0.668681</td>\n",
       "      <td>{'no': {'precision': 0.9157329598506069, 'reca...</td>\n",
       "      <td>100.0</td>\n",
       "    </tr>\n",
       "    <tr>\n",
       "      <th>15</th>\n",
       "      <td>0.896727</td>\n",
       "      <td>0.658441</td>\n",
       "      <td>{'no': {'precision': 0.9140989729225023, 'reca...</td>\n",
       "      <td>125.0</td>\n",
       "    </tr>\n",
       "    <tr>\n",
       "      <th>16</th>\n",
       "      <td>0.896285</td>\n",
       "      <td>0.660295</td>\n",
       "      <td>{'no': {'precision': 0.9146398503274088, 'reca...</td>\n",
       "      <td>150.0</td>\n",
       "    </tr>\n",
       "    <tr>\n",
       "      <th>17</th>\n",
       "      <td>0.897169</td>\n",
       "      <td>0.659904</td>\n",
       "      <td>{'no': {'precision': 0.9143323996265172, 'reca...</td>\n",
       "      <td>175.0</td>\n",
       "    </tr>\n",
       "    <tr>\n",
       "      <th>18</th>\n",
       "      <td>0.897169</td>\n",
       "      <td>0.656543</td>\n",
       "      <td>{'no': {'precision': 0.9135601118359739, 'reca...</td>\n",
       "      <td>200.0</td>\n",
       "    </tr>\n",
       "    <tr>\n",
       "      <th>19</th>\n",
       "      <td>0.894737</td>\n",
       "      <td>0.640852</td>\n",
       "      <td>{'no': {'precision': 0.9106521234625203, 'reca...</td>\n",
       "      <td>250.0</td>\n",
       "    </tr>\n",
       "    <tr>\n",
       "      <th>20</th>\n",
       "      <td>0.893189</td>\n",
       "      <td>0.625567</td>\n",
       "      <td>{'no': {'precision': 0.9078521939953811, 'reca...</td>\n",
       "      <td>300.0</td>\n",
       "    </tr>\n",
       "    <tr>\n",
       "      <th>21</th>\n",
       "      <td>0.896064</td>\n",
       "      <td>0.633240</td>\n",
       "      <td>{'no': {'precision': 0.908881199538639, 'recal...</td>\n",
       "      <td>350.0</td>\n",
       "    </tr>\n",
       "    <tr>\n",
       "      <th>22</th>\n",
       "      <td>0.893852</td>\n",
       "      <td>0.627404</td>\n",
       "      <td>{'no': {'precision': 0.9081043638882476, 'reca...</td>\n",
       "      <td>400.0</td>\n",
       "    </tr>\n",
       "    <tr>\n",
       "      <th>23</th>\n",
       "      <td>0.892747</td>\n",
       "      <td>0.609637</td>\n",
       "      <td>{'no': {'precision': 0.9050022946305645, 'reca...</td>\n",
       "      <td>450.0</td>\n",
       "    </tr>\n",
       "    <tr>\n",
       "      <th>24</th>\n",
       "      <td>0.894958</td>\n",
       "      <td>0.629827</td>\n",
       "      <td>{'no': {'precision': 0.9083987078910937, 'reca...</td>\n",
       "      <td>500.0</td>\n",
       "    </tr>\n",
       "  </tbody>\n",
       "</table>\n",
       "</div>"
      ],
      "text/plain": [
       "    Accuracy  F1-score                                             Result  \\\n",
       "0   0.900929  0.727371  {'no': {'precision': 0.9334143377885784, 'reca...   \n",
       "1   0.893189  0.695679  {'no': {'precision': 0.9255421686746987, 'reca...   \n",
       "2   0.900265  0.706256  {'no': {'precision': 0.9261119081779053, 'reca...   \n",
       "3   0.899823  0.706814  {'no': {'precision': 0.9264846743295019, 'reca...   \n",
       "4   0.903804  0.718464  {'no': {'precision': 0.928639846743295, 'recal...   \n",
       "5   0.902919  0.709134  {'no': {'precision': 0.9259171033825632, 'reca...   \n",
       "6   0.903582  0.710809  {'no': {'precision': 0.9261728983091212, 'reca...   \n",
       "7   0.903582  0.702399  {'no': {'precision': 0.9235502958579882, 'reca...   \n",
       "8   0.905794  0.708571  {'no': {'precision': 0.9245327655547669, 'reca...   \n",
       "9   0.905130  0.711381  {'no': {'precision': 0.9256885090218424, 'reca...   \n",
       "10  0.902256  0.700321  {'no': {'precision': 0.9234415738326618, 'reca...   \n",
       "11  0.903140  0.703692  {'no': {'precision': 0.9241166706189234, 'reca...   \n",
       "12  0.902698  0.701011  {'no': {'precision': 0.9234778488509832, 'reca...   \n",
       "13  0.902477  0.685876  {'no': {'precision': 0.9192867198498358, 'reca...   \n",
       "14  0.899823  0.668681  {'no': {'precision': 0.9157329598506069, 'reca...   \n",
       "15  0.896727  0.658441  {'no': {'precision': 0.9140989729225023, 'reca...   \n",
       "16  0.896285  0.660295  {'no': {'precision': 0.9146398503274088, 'reca...   \n",
       "17  0.897169  0.659904  {'no': {'precision': 0.9143323996265172, 'reca...   \n",
       "18  0.897169  0.656543  {'no': {'precision': 0.9135601118359739, 'reca...   \n",
       "19  0.894737  0.640852  {'no': {'precision': 0.9106521234625203, 'reca...   \n",
       "20  0.893189  0.625567  {'no': {'precision': 0.9078521939953811, 'reca...   \n",
       "21  0.896064  0.633240  {'no': {'precision': 0.908881199538639, 'recal...   \n",
       "22  0.893852  0.627404  {'no': {'precision': 0.9081043638882476, 'reca...   \n",
       "23  0.892747  0.609637  {'no': {'precision': 0.9050022946305645, 'reca...   \n",
       "24  0.894958  0.629827  {'no': {'precision': 0.9083987078910937, 'reca...   \n",
       "\n",
       "    Splits  \n",
       "0      1.0  \n",
       "1      2.0  \n",
       "2      4.0  \n",
       "3      8.0  \n",
       "4     10.0  \n",
       "5     15.0  \n",
       "6     20.0  \n",
       "7     25.0  \n",
       "8     30.0  \n",
       "9     35.0  \n",
       "10    40.0  \n",
       "11    45.0  \n",
       "12    50.0  \n",
       "13    75.0  \n",
       "14   100.0  \n",
       "15   125.0  \n",
       "16   150.0  \n",
       "17   175.0  \n",
       "18   200.0  \n",
       "19   250.0  \n",
       "20   300.0  \n",
       "21   350.0  \n",
       "22   400.0  \n",
       "23   450.0  \n",
       "24   500.0  "
      ]
     },
     "execution_count": 46,
     "metadata": {},
     "output_type": "execute_result"
    }
   ],
   "source": [
    "n_splits = [1, 2, 4, 8, 10, 15, 20, 25, 30, 35, 40, 45, 50, 75, 100, 125, 150, 175, 200, 250, 300, 350, 400, 450, 500]\n",
    "results = my_voting_classifier(n_splits, train, test)\n",
    "results"
   ]
  },
  {
   "cell_type": "code",
   "execution_count": 47,
   "metadata": {},
   "outputs": [
    {
     "data": {
      "text/plain": [
       "(array([0.6 , 0.62, 0.64, 0.66, 0.68, 0.7 , 0.72, 0.74]),\n",
       " <a list of 8 Text yticklabel objects>)"
      ]
     },
     "execution_count": 47,
     "metadata": {},
     "output_type": "execute_result"
    },
    {
     "data": {
      "image/png": "[encoded data removed]",
      "text/plain": [
       "<Figure size 432x288 with 1 Axes>"
      ]
     },
     "metadata": {
      "needs_background": "light"
     },
     "output_type": "display_data"
    }
   ],
   "source": [
    "fig = plt.figure()\n",
    "ax = plt.axes()\n",
    "\n",
    "ax.plot(results['Splits'], results['F1-score']);\n",
    "plt.ylabel('Average F1-score', size = 16)\n",
    "plt.xlabel('Number of splits', size = 16)\n",
    "plt.xticks(fontsize=14)\n",
    "plt.yticks(fontsize=14)"
   ]
  },
  {
   "cell_type": "code",
   "execution_count": 48,
   "metadata": {},
   "outputs": [
    {
     "data": {
      "text/plain": [
       "(array([0.892, 0.894, 0.896, 0.898, 0.9  , 0.902, 0.904, 0.906, 0.908]),\n",
       " <a list of 9 Text yticklabel objects>)"
      ]
     },
     "execution_count": 48,
     "metadata": {},
     "output_type": "execute_result"
    },
    {
     "data": {
      "image/png": "[encoded data removed]",
      "text/plain": [
       "<Figure size 432x288 with 1 Axes>"
      ]
     },
     "metadata": {
      "needs_background": "light"
     },
     "output_type": "display_data"
    }
   ],
   "source": [
    "fig = plt.figure()\n",
    "ax = plt.axes()\n",
    "\n",
    "ax.plot(results['Splits'], results['Accuracy']);\n",
    "plt.ylabel('Accuracy', size = 16)\n",
    "plt.xlabel('Number of splits', size = 16)\n",
    "plt.xticks(fontsize=14)\n",
    "plt.yticks(fontsize=14)"
   ]
  },
  {
   "cell_type": "code",
   "execution_count": null,
   "metadata": {},
   "outputs": [],
   "source": []
  }
 ],
 "metadata": {
  "kernelspec": {
   "display_name": "Python 3",
   "language": "python",
   "name": "python3"
  },
  "language_info": {
   "codemirror_mode": {
    "name": "ipython",
    "version": 3
   },
   "file_extension": ".py",
   "mimetype": "text/x-python",
   "name": "python",
   "nbconvert_exporter": "python",
   "pygments_lexer": "ipython3",
   "version": "3.6.4"
  }
 },
 "nbformat": 4,
 "nbformat_minor": 2
}
