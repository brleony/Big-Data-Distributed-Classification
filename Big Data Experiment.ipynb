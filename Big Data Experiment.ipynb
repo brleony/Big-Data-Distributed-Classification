{
 "cells": [
  {
   "cell_type": "markdown",
   "metadata": {},
   "source": [
    "### Big Data Experiment\n",
    "\n",
    "**TODO**\n",
    "* Load dataset\n",
    "* Compare bagging https://scikit-learn.org/stable/modules/ensemble.html#bagging and using a voting classifier https://scikit-learn.org/stable/modules/ensemble.html#voting-classifier to determine if using the latter would suffice for this experiment. Both with decision tree as base estimator.\n",
    "\n",
    "* Split data into train, eval, test\n",
    "* Train on train set (like you would normally --> how?)\n",
    "* Save results (to csv?)\n",
    "* Vary with the conditions\n",
    "    * Number of partitions\n",
    "    * Distribution over partitions\n",
    "* Show + plot results\n",
    "    * Accuracy vs number of partitions\n",
    "    * Accuracy vs distribution of classes"
   ]
  },
  {
   "cell_type": "code",
   "execution_count": 1,
   "metadata": {},
   "outputs": [],
   "source": [
    "from sklearn.ensemble import VotingClassifier\n",
    "from sklearn.ensemble import BaggingClassifier"
   ]
  },
  {
   "cell_type": "code",
   "execution_count": null,
   "metadata": {},
   "outputs": [],
   "source": []
  },
  {
   "cell_type": "code",
   "execution_count": null,
   "metadata": {},
   "outputs": [],
   "source": []
  },
  {
   "cell_type": "code",
   "execution_count": null,
   "metadata": {},
   "outputs": [],
   "source": []
  }
 ],
 "metadata": {
  "kernelspec": {
   "display_name": "Python 3",
   "language": "python",
   "name": "python3"
  },
  "language_info": {
   "codemirror_mode": {
    "name": "ipython",
    "version": 3
   },
   "file_extension": ".py",
   "mimetype": "text/x-python",
   "name": "python",
   "nbconvert_exporter": "python",
   "pygments_lexer": "ipython3",
   "version": "3.6.4"
  }
 },
 "nbformat": 4,
 "nbformat_minor": 2
}
