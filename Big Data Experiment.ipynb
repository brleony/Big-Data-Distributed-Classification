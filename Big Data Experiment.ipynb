{
 "cells": [
  {
   "cell_type": "markdown",
   "metadata": {},
   "source": [
    "# Big Data Experiment"
   ]
  },
  {
   "cell_type": "code",
   "execution_count": 20,
   "metadata": {},
   "outputs": [],
   "source": [
    "import pandas as pd \n",
    "import numpy as np\n",
    "\n",
    "from sklearn.model_selection import train_test_split\n",
    "from sklearn import preprocessing\n",
    "from sklearn import tree\n",
    "from sklearn.metrics import classification_report\n",
    "\n",
    "from sklearn.ensemble import AdaBoostClassifier\n",
    "\n",
    "from mlxtend.classifier import EnsembleVoteClassifier\n",
    "import copy\n",
    "\n",
    "import seaborn as sns\n",
    "\n",
    "import matplotlib.pyplot as plt\n",
    "plt.style.use('seaborn-whitegrid')\n",
    "import numpy as np\n",
    "\n",
    "%matplotlib inline"
   ]
  },
  {
   "cell_type": "markdown",
   "metadata": {},
   "source": [
    "## Exploratory Analysis"
   ]
  },
  {
   "cell_type": "code",
   "execution_count": 2,
   "metadata": {},
   "outputs": [],
   "source": [
    "path = 'Data/bank-full.csv'\n",
    "\n",
    "with open(path, encoding=\"utf8\") as f:\n",
    "    data = pd.read_csv(f, sep=\";\", encoding=\"utf8\")"
   ]
  },
  {
   "cell_type": "code",
   "execution_count": 3,
   "metadata": {},
   "outputs": [
    {
     "name": "stdout",
     "output_type": "stream",
     "text": [
      "<class 'pandas.core.frame.DataFrame'>\n",
      "RangeIndex: 45211 entries, 0 to 45210\n",
      "Data columns (total 17 columns):\n",
      "age          45211 non-null int64\n",
      "job          45211 non-null object\n",
      "marital      45211 non-null object\n",
      "education    45211 non-null object\n",
      "default      45211 non-null object\n",
      "balance      45211 non-null int64\n",
      "housing      45211 non-null object\n",
      "loan         45211 non-null object\n",
      "contact      45211 non-null object\n",
      "day          45211 non-null int64\n",
      "month        45211 non-null object\n",
      "duration     45211 non-null int64\n",
      "campaign     45211 non-null int64\n",
      "pdays        45211 non-null int64\n",
      "previous     45211 non-null int64\n",
      "poutcome     45211 non-null object\n",
      "y            45211 non-null object\n",
      "dtypes: int64(7), object(10)\n",
      "memory usage: 5.9+ MB\n"
     ]
    }
   ],
   "source": [
    "data.info()"
   ]
  },
  {
   "cell_type": "code",
   "execution_count": 4,
   "metadata": {},
   "outputs": [
    {
     "data": {
      "text/html": [
       "<div>\n",
       "<style scoped>\n",
       "    .dataframe tbody tr th:only-of-type {\n",
       "        vertical-align: middle;\n",
       "    }\n",
       "\n",
       "    .dataframe tbody tr th {\n",
       "        vertical-align: top;\n",
       "    }\n",
       "\n",
       "    .dataframe thead th {\n",
       "        text-align: right;\n",
       "    }\n",
       "</style>\n",
       "<table border=\"1\" class=\"dataframe\">\n",
       "  <thead>\n",
       "    <tr style=\"text-align: right;\">\n",
       "      <th></th>\n",
       "      <th>age</th>\n",
       "      <th>balance</th>\n",
       "      <th>day</th>\n",
       "      <th>duration</th>\n",
       "      <th>campaign</th>\n",
       "      <th>pdays</th>\n",
       "      <th>previous</th>\n",
       "    </tr>\n",
       "  </thead>\n",
       "  <tbody>\n",
       "    <tr>\n",
       "      <th>count</th>\n",
       "      <td>45211.000000</td>\n",
       "      <td>45211.000000</td>\n",
       "      <td>45211.000000</td>\n",
       "      <td>45211.000000</td>\n",
       "      <td>45211.000000</td>\n",
       "      <td>45211.000000</td>\n",
       "      <td>45211.000000</td>\n",
       "    </tr>\n",
       "    <tr>\n",
       "      <th>mean</th>\n",
       "      <td>40.936210</td>\n",
       "      <td>1362.272058</td>\n",
       "      <td>15.806419</td>\n",
       "      <td>258.163080</td>\n",
       "      <td>2.763841</td>\n",
       "      <td>40.197828</td>\n",
       "      <td>0.580323</td>\n",
       "    </tr>\n",
       "    <tr>\n",
       "      <th>std</th>\n",
       "      <td>10.618762</td>\n",
       "      <td>3044.765829</td>\n",
       "      <td>8.322476</td>\n",
       "      <td>257.527812</td>\n",
       "      <td>3.098021</td>\n",
       "      <td>100.128746</td>\n",
       "      <td>2.303441</td>\n",
       "    </tr>\n",
       "    <tr>\n",
       "      <th>min</th>\n",
       "      <td>18.000000</td>\n",
       "      <td>-8019.000000</td>\n",
       "      <td>1.000000</td>\n",
       "      <td>0.000000</td>\n",
       "      <td>1.000000</td>\n",
       "      <td>-1.000000</td>\n",
       "      <td>0.000000</td>\n",
       "    </tr>\n",
       "    <tr>\n",
       "      <th>25%</th>\n",
       "      <td>33.000000</td>\n",
       "      <td>72.000000</td>\n",
       "      <td>8.000000</td>\n",
       "      <td>103.000000</td>\n",
       "      <td>1.000000</td>\n",
       "      <td>-1.000000</td>\n",
       "      <td>0.000000</td>\n",
       "    </tr>\n",
       "    <tr>\n",
       "      <th>50%</th>\n",
       "      <td>39.000000</td>\n",
       "      <td>448.000000</td>\n",
       "      <td>16.000000</td>\n",
       "      <td>180.000000</td>\n",
       "      <td>2.000000</td>\n",
       "      <td>-1.000000</td>\n",
       "      <td>0.000000</td>\n",
       "    </tr>\n",
       "    <tr>\n",
       "      <th>75%</th>\n",
       "      <td>48.000000</td>\n",
       "      <td>1428.000000</td>\n",
       "      <td>21.000000</td>\n",
       "      <td>319.000000</td>\n",
       "      <td>3.000000</td>\n",
       "      <td>-1.000000</td>\n",
       "      <td>0.000000</td>\n",
       "    </tr>\n",
       "    <tr>\n",
       "      <th>max</th>\n",
       "      <td>95.000000</td>\n",
       "      <td>102127.000000</td>\n",
       "      <td>31.000000</td>\n",
       "      <td>4918.000000</td>\n",
       "      <td>63.000000</td>\n",
       "      <td>871.000000</td>\n",
       "      <td>275.000000</td>\n",
       "    </tr>\n",
       "  </tbody>\n",
       "</table>\n",
       "</div>"
      ],
      "text/plain": [
       "                age        balance           day      duration      campaign  \\\n",
       "count  45211.000000   45211.000000  45211.000000  45211.000000  45211.000000   \n",
       "mean      40.936210    1362.272058     15.806419    258.163080      2.763841   \n",
       "std       10.618762    3044.765829      8.322476    257.527812      3.098021   \n",
       "min       18.000000   -8019.000000      1.000000      0.000000      1.000000   \n",
       "25%       33.000000      72.000000      8.000000    103.000000      1.000000   \n",
       "50%       39.000000     448.000000     16.000000    180.000000      2.000000   \n",
       "75%       48.000000    1428.000000     21.000000    319.000000      3.000000   \n",
       "max       95.000000  102127.000000     31.000000   4918.000000     63.000000   \n",
       "\n",
       "              pdays      previous  \n",
       "count  45211.000000  45211.000000  \n",
       "mean      40.197828      0.580323  \n",
       "std      100.128746      2.303441  \n",
       "min       -1.000000      0.000000  \n",
       "25%       -1.000000      0.000000  \n",
       "50%       -1.000000      0.000000  \n",
       "75%       -1.000000      0.000000  \n",
       "max      871.000000    275.000000  "
      ]
     },
     "execution_count": 4,
     "metadata": {},
     "output_type": "execute_result"
    }
   ],
   "source": [
    "data.describe()"
   ]
  },
  {
   "cell_type": "code",
   "execution_count": 5,
   "metadata": {},
   "outputs": [],
   "source": [
    "# previous = data['previous']\n",
    "# plot_retweets = previous.plot.hist()\n",
    "# plot_retweets.set_xlabel(\"Number of contacts performed before this campaign\", weight='bold', size=12)\n",
    "# plot_retweets.set_ylabel(\"Frequency\", weight='bold', size=12)"
   ]
  },
  {
   "cell_type": "code",
   "execution_count": 6,
   "metadata": {},
   "outputs": [],
   "source": [
    "# campaign = data['campaign']\n",
    "# plot_retweets = campaign.plot.hist()\n",
    "# plot_retweets.set_xlabel(\"Number of contacts during before this campaign\", weight='bold', size=12)\n",
    "# plot_retweets.set_ylabel(\"Frequency\", weight='bold', size=12)"
   ]
  },
  {
   "cell_type": "code",
   "execution_count": 7,
   "metadata": {},
   "outputs": [],
   "source": [
    "# pairplot = sns.pairplot(data)"
   ]
  },
  {
   "cell_type": "code",
   "execution_count": 8,
   "metadata": {},
   "outputs": [],
   "source": [
    "# correlations = data[['age', 'balance', 'duration', 'campaign', 'pdays', 'previous']].corr()\n",
    "# correlations_matrix = sns.heatmap(correlations, xticklabels=correlations.columns, yticklabels=correlations.columns, cmap=sns.cubehelix_palette(10))"
   ]
  },
  {
   "cell_type": "code",
   "execution_count": 9,
   "metadata": {},
   "outputs": [
    {
     "data": {
      "text/plain": [
       "no     39922\n",
       "yes     5289\n",
       "Name: y, dtype: int64"
      ]
     },
     "execution_count": 9,
     "metadata": {},
     "output_type": "execute_result"
    }
   ],
   "source": [
    "data.y.value_counts()"
   ]
  },
  {
   "cell_type": "code",
   "execution_count": 10,
   "metadata": {},
   "outputs": [
    {
     "data": {
      "text/plain": [
       "no     0.883015\n",
       "yes    0.116985\n",
       "Name: y, dtype: float64"
      ]
     },
     "execution_count": 10,
     "metadata": {},
     "output_type": "execute_result"
    }
   ],
   "source": [
    "data.y.value_counts(normalize=True)"
   ]
  },
  {
   "cell_type": "code",
   "execution_count": 11,
   "metadata": {},
   "outputs": [],
   "source": [
    "# Split data into training and test sets\n",
    "train, test = train_test_split(data, train_size=0.9)\n",
    "\n",
    "# Encoder\n",
    "encoder = preprocessing.LabelEncoder()"
   ]
  },
  {
   "cell_type": "code",
   "execution_count": 12,
   "metadata": {},
   "outputs": [
    {
     "name": "stdout",
     "output_type": "stream",
     "text": [
      "691713 76874\n"
     ]
    }
   ],
   "source": [
    "print(train.size, test.size)"
   ]
  },
  {
   "cell_type": "markdown",
   "metadata": {},
   "source": [
    "## Functions"
   ]
  },
  {
   "cell_type": "code",
   "execution_count": 13,
   "metadata": {},
   "outputs": [],
   "source": [
    "# Add the scores to the dataframe\n",
    "def add_to_results(df, n_estimators, split, dist, f1, result):\n",
    "    scores = {\"N_estimators\": n_estimators, \"Splits\": split, \"Distribution\": dist, \"F1-score\": f1, \"Result\": result}\n",
    "    df = df.append(scores, ignore_index=True)\n",
    "    return df"
   ]
  },
  {
   "cell_type": "code",
   "execution_count": 14,
   "metadata": {},
   "outputs": [],
   "source": [
    "# Split a data set in to X, y and encode X\n",
    "def splitXy(dataset):\n",
    "    X = dataset.drop('y', axis=1)\n",
    "    for column in X.columns:\n",
    "        if X[column].dtype == 'object':\n",
    "            X[column] = encoder.fit_transform(X[column])        \n",
    "    y = dataset.y\n",
    "    return X, y"
   ]
  },
  {
   "cell_type": "code",
   "execution_count": 15,
   "metadata": {},
   "outputs": [],
   "source": [
    "# Train voting classifier with n splits\n",
    "def train_classifier_with_n_splits(n_parts, train):\n",
    "    # Randomly split data into n parts of (roughly) equal size\n",
    "    splits = np.array_split(train, indices_or_sections=n_parts)\n",
    "    \n",
    "    # Fit a decision tree to every split of data\n",
    "    classifiers = []\n",
    "    for i, split in enumerate(splits):\n",
    "        X_train, y_train = splitXy(split)\n",
    "\n",
    "        tree_split = tree.DecisionTreeClassifier(max_depth=10)\n",
    "        tree_split = tree_split.fit(X_train, y_train)\n",
    "        classifiers.append(tree_split)\n",
    "        \n",
    "    # Combine all trees in a voting classifier\n",
    "    eclf = EnsembleVoteClassifier(clfs=classifiers, voting=\"soft\", refit=False)\n",
    "    eclf.fit(None, y_train)\n",
    "    \n",
    "    return eclf"
   ]
  },
  {
   "cell_type": "code",
   "execution_count": 16,
   "metadata": {},
   "outputs": [],
   "source": [
    "# Test voting classifier\n",
    "def validate_classifier(eclf, test):\n",
    "    X_test, y_test = splitXy(test)\n",
    "    eclf_report = classification_report(y_test, eclf.predict(X_test), output_dict=True)\n",
    "    return eclf_report"
   ]
  },
  {
   "cell_type": "code",
   "execution_count": 17,
   "metadata": {},
   "outputs": [],
   "source": [
    "def my_voting_classifier(n_splits, train, test):\n",
    "    # Empty dataframe to save results\n",
    "    results = pd.DataFrame()\n",
    "\n",
    "    # Repeat for every n of splits: train classifier, \n",
    "    for n_split in n_splits:\n",
    "        eclf = train_classifier_with_n_splits(n_split, train)\n",
    "        report = validate_classifier(eclf, test)\n",
    "        results = add_to_results(results, 1, n_split, 0, report['macro avg']['f1-score'], report)\n",
    "        print(n_split, report['macro avg']['f1-score'])\n",
    "    \n",
    "    return results"
   ]
  },
  {
   "cell_type": "markdown",
   "metadata": {},
   "source": [
    "## Voting classifier, training on seperate splits"
   ]
  },
  {
   "cell_type": "code",
   "execution_count": 18,
   "metadata": {},
   "outputs": [
    {
     "name": "stdout",
     "output_type": "stream",
     "text": [
      "1 0.7533852620319579\n",
      "2 0.6935643202855499\n",
      "4 0.7285564358310712\n",
      "8 0.7205830232146022\n",
      "16 0.7309184543382571\n",
      "32 0.7028337241807484\n",
      "64 0.6791275776562468\n",
      "128 0.6553488554131246\n",
      "256 0.6391349453355678\n",
      "512 0.6145921676820293\n"
     ]
    },
    {
     "data": {
      "text/html": [
       "<div>\n",
       "<style scoped>\n",
       "    .dataframe tbody tr th:only-of-type {\n",
       "        vertical-align: middle;\n",
       "    }\n",
       "\n",
       "    .dataframe tbody tr th {\n",
       "        vertical-align: top;\n",
       "    }\n",
       "\n",
       "    .dataframe thead th {\n",
       "        text-align: right;\n",
       "    }\n",
       "</style>\n",
       "<table border=\"1\" class=\"dataframe\">\n",
       "  <thead>\n",
       "    <tr style=\"text-align: right;\">\n",
       "      <th></th>\n",
       "      <th>Distribution</th>\n",
       "      <th>F1-score</th>\n",
       "      <th>N_estimators</th>\n",
       "      <th>Result</th>\n",
       "      <th>Splits</th>\n",
       "    </tr>\n",
       "  </thead>\n",
       "  <tbody>\n",
       "    <tr>\n",
       "      <th>0</th>\n",
       "      <td>0.0</td>\n",
       "      <td>0.753385</td>\n",
       "      <td>1.0</td>\n",
       "      <td>{'no': {'precision': 0.9402081820382474, 'reca...</td>\n",
       "      <td>1.0</td>\n",
       "    </tr>\n",
       "    <tr>\n",
       "      <th>1</th>\n",
       "      <td>0.0</td>\n",
       "      <td>0.693564</td>\n",
       "      <td>1.0</td>\n",
       "      <td>{'no': {'precision': 0.926555023923445, 'recal...</td>\n",
       "      <td>2.0</td>\n",
       "    </tr>\n",
       "    <tr>\n",
       "      <th>2</th>\n",
       "      <td>0.0</td>\n",
       "      <td>0.728556</td>\n",
       "      <td>1.0</td>\n",
       "      <td>{'no': {'precision': 0.9346357935359383, 'reca...</td>\n",
       "      <td>4.0</td>\n",
       "    </tr>\n",
       "    <tr>\n",
       "      <th>3</th>\n",
       "      <td>0.0</td>\n",
       "      <td>0.720583</td>\n",
       "      <td>1.0</td>\n",
       "      <td>{'no': {'precision': 0.9315461943513643, 'reca...</td>\n",
       "      <td>8.0</td>\n",
       "    </tr>\n",
       "    <tr>\n",
       "      <th>4</th>\n",
       "      <td>0.0</td>\n",
       "      <td>0.730918</td>\n",
       "      <td>1.0</td>\n",
       "      <td>{'no': {'precision': 0.9332695527385793, 'reca...</td>\n",
       "      <td>16.0</td>\n",
       "    </tr>\n",
       "    <tr>\n",
       "      <th>5</th>\n",
       "      <td>0.0</td>\n",
       "      <td>0.702834</td>\n",
       "      <td>1.0</td>\n",
       "      <td>{'no': {'precision': 0.9263556713237036, 'reca...</td>\n",
       "      <td>32.0</td>\n",
       "    </tr>\n",
       "    <tr>\n",
       "      <th>6</th>\n",
       "      <td>0.0</td>\n",
       "      <td>0.679128</td>\n",
       "      <td>1.0</td>\n",
       "      <td>{'no': {'precision': 0.9209105843698663, 'reca...</td>\n",
       "      <td>64.0</td>\n",
       "    </tr>\n",
       "    <tr>\n",
       "      <th>7</th>\n",
       "      <td>0.0</td>\n",
       "      <td>0.655349</td>\n",
       "      <td>1.0</td>\n",
       "      <td>{'no': {'precision': 0.9154309545875811, 'reca...</td>\n",
       "      <td>128.0</td>\n",
       "    </tr>\n",
       "    <tr>\n",
       "      <th>8</th>\n",
       "      <td>0.0</td>\n",
       "      <td>0.639135</td>\n",
       "      <td>1.0</td>\n",
       "      <td>{'no': {'precision': 0.9128122109158187, 'reca...</td>\n",
       "      <td>256.0</td>\n",
       "    </tr>\n",
       "    <tr>\n",
       "      <th>9</th>\n",
       "      <td>0.0</td>\n",
       "      <td>0.614592</td>\n",
       "      <td>1.0</td>\n",
       "      <td>{'no': {'precision': 0.9085072231139647, 'reca...</td>\n",
       "      <td>512.0</td>\n",
       "    </tr>\n",
       "  </tbody>\n",
       "</table>\n",
       "</div>"
      ],
      "text/plain": [
       "   Distribution  F1-score  N_estimators  \\\n",
       "0           0.0  0.753385           1.0   \n",
       "1           0.0  0.693564           1.0   \n",
       "2           0.0  0.728556           1.0   \n",
       "3           0.0  0.720583           1.0   \n",
       "4           0.0  0.730918           1.0   \n",
       "5           0.0  0.702834           1.0   \n",
       "6           0.0  0.679128           1.0   \n",
       "7           0.0  0.655349           1.0   \n",
       "8           0.0  0.639135           1.0   \n",
       "9           0.0  0.614592           1.0   \n",
       "\n",
       "                                              Result  Splits  \n",
       "0  {'no': {'precision': 0.9402081820382474, 'reca...     1.0  \n",
       "1  {'no': {'precision': 0.926555023923445, 'recal...     2.0  \n",
       "2  {'no': {'precision': 0.9346357935359383, 'reca...     4.0  \n",
       "3  {'no': {'precision': 0.9315461943513643, 'reca...     8.0  \n",
       "4  {'no': {'precision': 0.9332695527385793, 'reca...    16.0  \n",
       "5  {'no': {'precision': 0.9263556713237036, 'reca...    32.0  \n",
       "6  {'no': {'precision': 0.9209105843698663, 'reca...    64.0  \n",
       "7  {'no': {'precision': 0.9154309545875811, 'reca...   128.0  \n",
       "8  {'no': {'precision': 0.9128122109158187, 'reca...   256.0  \n",
       "9  {'no': {'precision': 0.9085072231139647, 'reca...   512.0  "
      ]
     },
     "execution_count": 18,
     "metadata": {},
     "output_type": "execute_result"
    }
   ],
   "source": [
    "n_splits = [1, 2, 4, 8, 16, 32, 64, 128, 256, 512]\n",
    "results = my_voting_classifier(n_splits, train, test)\n",
    "results"
   ]
  },
  {
   "cell_type": "code",
   "execution_count": 31,
   "metadata": {},
   "outputs": [
    {
     "data": {
      "text/plain": [
       "Text(0.5, 0, 'Number of splits')"
      ]
     },
     "execution_count": 31,
     "metadata": {},
     "output_type": "execute_result"
    },
    {
     "data": {
      "image/png": "[encoded data removed]",
      "text/plain": [
       "<Figure size 432x288 with 1 Axes>"
      ]
     },
     "metadata": {
      "needs_background": "light"
     },
     "output_type": "display_data"
    }
   ],
   "source": [
    "fig = plt.figure()\n",
    "ax = plt.axes()\n",
    "\n",
    "ax.plot(results['Splits'], results['F1-score']);\n",
    "plt.ylabel('Average F1-score', size = 16)\n",
    "plt.xlabel('Number of splits', size = 16)\n",
    "#plt.xticks(ticks=n_splits)"
   ]
  },
  {
   "cell_type": "code",
   "execution_count": null,
   "metadata": {},
   "outputs": [],
   "source": []
  }
 ],
 "metadata": {
  "kernelspec": {
   "display_name": "Python 3",
   "language": "python",
   "name": "python3"
  },
  "language_info": {
   "codemirror_mode": {
    "name": "ipython",
    "version": 3
   },
   "file_extension": ".py",
   "mimetype": "text/x-python",
   "name": "python",
   "nbconvert_exporter": "python",
   "pygments_lexer": "ipython3",
   "version": "3.6.4"
  }
 },
 "nbformat": 4,
 "nbformat_minor": 2
}
